{
  "cells": [
    {
      "cell_type": "markdown",
      "source": [
        "#Imports"
      ],
      "metadata": {
        "id": "6gWPTDwwcByN"
      }
    },
    {
      "cell_type": "code",
      "execution_count": null,
      "metadata": {
        "id": "dW-tIjnuX_Y-"
      },
      "outputs": [],
      "source": [
        "!pip3 install gradio"
      ]
    },
    {
      "cell_type": "code",
      "execution_count": 7,
      "metadata": {
        "id": "QPPFFWuEYBcw"
      },
      "outputs": [],
      "source": [
        "# Importing libraries\n",
        "\n",
        "import gradio as gr\n",
        "from tensorflow.keras.models import load_model\n",
        "import numpy as np\n",
        "from PIL import Image"
      ]
    },
    {
      "cell_type": "code",
      "execution_count": 3,
      "metadata": {
        "id": "Nll4cenrYC6U"
      },
      "outputs": [],
      "source": [
        "# Loading model\n",
        "model = load_model('/content/CNN_M5.h5')"
      ]
    },
    {
      "cell_type": "markdown",
      "source": [
        "#Gradio Function"
      ],
      "metadata": {
        "id": "MVI2NqBlcGOb"
      }
    },
    {
      "cell_type": "code",
      "execution_count": 4,
      "metadata": {
        "id": "JCgY_YDoYksD"
      },
      "outputs": [],
      "source": [
        "# Defining Gradio function\n",
        "classes = [\"airplane\",\"automobile\",\"bird\",\"cat\",\"deer\",\"dog\",\"frog\",\"horse\",\"ship\",\"truck\"]\n",
        "\n",
        "def classify_image(image):\n",
        "    img = Image.fromarray(image.astype('uint8'), 'RGB')\n",
        "\n",
        "    # Model expects 32x32\n",
        "    img = img.resize((32, 32))\n",
        "\n",
        "    # Normalizing\n",
        "    img_array = np.array(img) / 255.0\n",
        "\n",
        "    # Model takes batch i/p\n",
        "    img_array = np.expand_dims(img_array, axis=0)\n",
        "\n",
        "    # Calling prediction\n",
        "    prediction = model.predict(img_array)\n",
        "    predicted_class = np.argmax(prediction)\n",
        "\n",
        "    return classes[predicted_class]"
      ]
    },
    {
      "cell_type": "markdown",
      "source": [
        "#Deploying"
      ],
      "metadata": {
        "id": "NNrhxjzvcwD8"
      }
    },
    {
      "cell_type": "code",
      "execution_count": 5,
      "metadata": {
        "id": "czDghd4nYtbx",
        "colab": {
          "base_uri": "https://localhost:8080/",
          "height": 611
        },
        "outputId": "18db64fa-7e38-4f6c-e7b8-04e036d0e731"
      },
      "outputs": [
        {
          "output_type": "stream",
          "name": "stdout",
          "text": [
            "Colab notebook detected. To show errors in colab notebook, set debug=True in launch()\n",
            "Running on public URL: https://f575c9409901dec670.gradio.live\n",
            "\n",
            "This share link expires in 72 hours. For free permanent hosting and GPU upgrades, run `gradio deploy` from Terminal to deploy to Spaces (https://huggingface.co/spaces)\n"
          ]
        },
        {
          "output_type": "display_data",
          "data": {
            "text/plain": [
              "<IPython.core.display.HTML object>"
            ],
            "text/html": [
              "<div><iframe src=\"https://f575c9409901dec670.gradio.live\" width=\"100%\" height=\"500\" allow=\"autoplay; camera; microphone; clipboard-read; clipboard-write;\" frameborder=\"0\" allowfullscreen></iframe></div>"
            ]
          },
          "metadata": {}
        },
        {
          "output_type": "execute_result",
          "data": {
            "text/plain": []
          },
          "metadata": {},
          "execution_count": 5
        }
      ],
      "source": [
        "# Deploying gradio interface\n",
        "input_img = gr.Image(label=\"Upload Image:\")\n",
        "output_label = gr.Label(label=\"Predicted Label:\")\n",
        "\n",
        "gr.Interface(fn=classify_image, inputs=input_img, outputs=output_label,title=\"CIFAR-10 Multi-Class Classification\").launch(share=True)\n"
      ]
    }
  ],
  "metadata": {
    "colab": {
      "provenance": [],
      "collapsed_sections": [
        "6gWPTDwwcByN",
        "MVI2NqBlcGOb",
        "NNrhxjzvcwD8"
      ]
    },
    "kernelspec": {
      "display_name": "Python 3",
      "name": "python3"
    },
    "language_info": {
      "name": "python"
    }
  },
  "nbformat": 4,
  "nbformat_minor": 0
}