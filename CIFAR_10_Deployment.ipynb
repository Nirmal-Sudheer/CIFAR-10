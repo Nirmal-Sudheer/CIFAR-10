{
  "cells": [
    {
      "cell_type": "markdown",
      "source": [
        "#Imports"
      ],
      "metadata": {
        "id": "6gWPTDwwcByN"
      }
    },
    {
      "cell_type": "code",
      "execution_count": null,
      "metadata": {
        "id": "dW-tIjnuX_Y-"
      },
      "outputs": [],
      "source": [
        "!pip3 install gradio"
      ]
    },
    {
      "cell_type": "code",
      "execution_count": 2,
      "metadata": {
        "id": "QPPFFWuEYBcw"
      },
      "outputs": [],
      "source": [
        "import gradio as gr\n",
        "from tensorflow.keras.models import load_model\n",
        "import numpy as np\n",
        "from PIL import Image"
      ]
    },
    {
      "cell_type": "code",
      "execution_count": 4,
      "metadata": {
        "id": "Nll4cenrYC6U"
      },
      "outputs": [],
      "source": [
        "# Loading model\n",
        "model = load_model('/content/CNN_M5.h5')"
      ]
    },
    {
      "cell_type": "markdown",
      "source": [
        "#Gradio Function"
      ],
      "metadata": {
        "id": "MVI2NqBlcGOb"
      }
    },
    {
      "cell_type": "code",
      "execution_count": 5,
      "metadata": {
        "id": "JCgY_YDoYksD"
      },
      "outputs": [],
      "source": [
        "classes = [\"airplane\",\"automobile\",\"bird\",\"cat\",\"deer\",\"little bitch\",\"frog\",\"horse\",\"ship\",\"truck\"]\n",
        "\n",
        "def classify_image(image):\n",
        "    img = Image.fromarray(image.astype('uint8'), 'RGB')\n",
        "\n",
        "    # Model expects 32x32\n",
        "    img = img.resize((32, 32))\n",
        "\n",
        "    # Normalizing\n",
        "    img_array = np.array(img) / 255.0\n",
        "\n",
        "    # Model takes batch i/p\n",
        "    img_array = np.expand_dims(img_array, axis=0)\n",
        "\n",
        "    # Calling prediction\n",
        "    prediction = model.predict(img_array)\n",
        "    predicted_class = np.argmax(prediction)\n",
        "\n",
        "    return classes[predicted_class]"
      ]
    },
    {
      "cell_type": "markdown",
      "source": [
        "#Deploying"
      ],
      "metadata": {
        "id": "NNrhxjzvcwD8"
      }
    },
    {
      "cell_type": "code",
      "execution_count": 6,
      "metadata": {
        "id": "czDghd4nYtbx",
        "colab": {
          "base_uri": "https://localhost:8080/",
          "height": 611
        },
        "outputId": "12dc5aa2-e3c5-4779-ead0-7ce07abf1b87"
      },
      "outputs": [
        {
          "output_type": "stream",
          "name": "stdout",
          "text": [
            "Colab notebook detected. To show errors in colab notebook, set debug=True in launch()\n",
            "Running on public URL: https://40f9aafd19c81b7b5b.gradio.live\n",
            "\n",
            "This share link expires in 72 hours. For free permanent hosting and GPU upgrades, run `gradio deploy` from Terminal to deploy to Spaces (https://huggingface.co/spaces)\n"
          ]
        },
        {
          "output_type": "display_data",
          "data": {
            "text/plain": [
              "<IPython.core.display.HTML object>"
            ],
            "text/html": [
              "<div><iframe src=\"https://40f9aafd19c81b7b5b.gradio.live\" width=\"100%\" height=\"500\" allow=\"autoplay; camera; microphone; clipboard-read; clipboard-write;\" frameborder=\"0\" allowfullscreen></iframe></div>"
            ]
          },
          "metadata": {}
        },
        {
          "output_type": "execute_result",
          "data": {
            "text/plain": []
          },
          "metadata": {},
          "execution_count": 6
        }
      ],
      "source": [
        "# Deploying gradio interface\n",
        "input_img = gr.Image(label=\"Upload Image:\")\n",
        "output_label = gr.Label(label=\"Predicted Label:\")\n",
        "\n",
        "gr.Interface(fn=classify_image, inputs=input_img, outputs=output_label,title=\"CIFAR-10 Multi-Class Classification\").launch(share=True)\n"
      ]
    },
    {
      "cell_type": "code",
      "source": [],
      "metadata": {
        "id": "gGGngpKwmgzC"
      },
      "execution_count": null,
      "outputs": []
    }
  ],
  "metadata": {
    "colab": {
      "provenance": [],
      "collapsed_sections": [
        "6gWPTDwwcByN",
        "MVI2NqBlcGOb",
        "NNrhxjzvcwD8"
      ]
    },
    "kernelspec": {
      "display_name": "Python 3",
      "name": "python3"
    },
    "language_info": {
      "name": "python"
    }
  },
  "nbformat": 4,
  "nbformat_minor": 0
}