{
  "nbformat": 4,
  "nbformat_minor": 0,
  "metadata": {
    "colab": {
      "provenance": [],
      "gpuType": "T4",
      "collapsed_sections": [
        "ntnSHX4XdsJF",
        "svhAnAicf3O9",
        "QiR8X_g_fkxM",
        "xtdHWRbwesHr"
      ]
    },
    "kernelspec": {
      "name": "python3",
      "display_name": "Python 3"
    },
    "language_info": {
      "name": "python"
    },
    "accelerator": "GPU"
  },
  "cells": [
    {
      "cell_type": "markdown",
      "source": [
        "#Imports"
      ],
      "metadata": {
        "id": "2M5W8BksdodN"
      }
    },
    {
      "cell_type": "code",
      "source": [
        "# Import packages\n",
        "import tensorflow as tf\n",
        "import pickle\n",
        "import numpy as np\n",
        "import seaborn as sns\n",
        "import matplotlib.pyplot as plt\n",
        "from sklearn.metrics import confusion_matrix,accuracy_score\n",
        "from tensorflow.keras import Sequential\n",
        "from tensorflow.keras.layers import Conv2D, MaxPooling2D, Flatten, Dense, Dropout\n",
        "from tensorflow.keras.layers import BatchNormalization\n",
        "from tensorflow.keras.optimizers import Adam\n",
      ],
      "metadata": {
        "id": "BkLoZ9I5WlmU"
      },
      "execution_count": 28,
      "outputs": []
    },
    {
      "cell_type": "code",
      "source": [
        "# Checking for GPU availability\n",
        "physical_devices = tf.config.list_physical_devices('GPU')\n",
        "tf.config.experimental.set_memory_growth(physical_devices[0], True)\n"
      ],
      "metadata": {
        "id": "BB_hWn79VTlz"
      },
      "execution_count": 2,
      "outputs": []
    },
    {
      "cell_type": "code",
      "source": [
        "print(tf.config.list_physical_devices('GPU'))\n"
      ],
      "metadata": {
        "id": "pQSwpcz5VW9b",
        "colab": {
          "base_uri": "https://localhost:8080/"
        },
        "outputId": "5d90e525-006e-44d9-a44c-73f2652665b3"
      },
      "execution_count": 3,
      "outputs": [
        {
          "output_type": "stream",
          "name": "stdout",
          "text": [
            "[PhysicalDevice(name='/physical_device:GPU:0', device_type='GPU')]\n"
          ]
        }
      ]
    },
    {
      "cell_type": "markdown",
      "source": [
        "#Loading Dataset"
      ],
      "metadata": {
        "id": "ntnSHX4XdsJF"
      }
    },
    {
      "cell_type": "code",
      "source": [
        "# Function to unpickle file\n",
        "def unpickle(file):\n",
        "    with open(file, 'rb') as fo:\n",
        "        data = pickle.load(fo, encoding='bytes')    # Each file  unpickled file returns a dictionary that contains batch label,labels,data ,filenames\n",
        "    return data\n",
        "\n",
        "batch_files = ['/content/data_batch_1', '/content/data_batch_2', '/content/data_batch_3', '/content/data_batch_4', '/content/data_batch_5']\n",
        "data_batches = []\n",
        "for file in batch_files:    # Function  to combine them\n",
        "    data_batches.append(unpickle(file))\n",
        "\n"
      ],
      "metadata": {
        "id": "52zPQmUZe-BA"
      },
      "execution_count": 4,
      "outputs": []
    },
    {
      "cell_type": "code",
      "source": [
        "# Combining data\n",
        "train_data = np.concatenate([batch[b'data'] for batch in data_batches], axis=0)\n",
        "train_labels = np.concatenate([batch[b'labels'] for batch in data_batches], axis=0)\n",
        "print(f'All the training data is of the shape :{train_data.shape}')\n",
        "print(f\"Its respective labels are of the shape :{train_labels.shape}\")"
      ],
      "metadata": {
        "id": "ROlkTUl6fcbC",
        "colab": {
          "base_uri": "https://localhost:8080/"
        },
        "outputId": "a33a76b2-a19b-4d11-8b9d-ce8176f2ff57"
      },
      "execution_count": 5,
      "outputs": [
        {
          "output_type": "stream",
          "name": "stdout",
          "text": [
            "All the training data is of the shape :(50000, 3072)\n",
            "Its respective labels are of the shape :(50000,)\n"
          ]
        }
      ]
    },
    {
      "cell_type": "code",
      "source": [
        "# Test Batch\n",
        "test_batch = unpickle('/content/test_batch')\n",
        "test_data = test_batch[b'data']\n",
        "test_labels = np.array(test_batch[b'labels'])\n",
        "print(f\"All the test data is of the shape :{test_data.shape}\")\n",
        "print(f\"Its respective labels are of the shape :{test_labels.shape}\")"
      ],
      "metadata": {
        "id": "R51Om4WIfcYb",
        "colab": {
          "base_uri": "https://localhost:8080/"
        },
        "outputId": "e76489a5-fe7d-411d-867b-b089da933417"
      },
      "execution_count": 6,
      "outputs": [
        {
          "output_type": "stream",
          "name": "stdout",
          "text": [
            "All the test data is of the shape :(10000, 3072)\n",
            "Its respective labels are of the shape :(10000,)\n"
          ]
        }
      ]
    },
    {
      "cell_type": "markdown",
      "source": [
        "#Pre-Processing"
      ],
      "metadata": {
        "id": "svhAnAicf3O9"
      }
    },
    {
      "cell_type": "code",
      "source": [
        "# Preprocessing data\n",
        "num_channels=3\n",
        "img_size=32\n",
        "\n",
        "def Pre_Process(samples):\n",
        "\n",
        "  #Normalizing the datapoints\n",
        "\n",
        "\n",
        "  raw_float = np.array(samples, dtype=float) / 255.0\n",
        "\n",
        "  #Reshaping\n",
        "\n",
        "\n",
        "  images = raw_float.reshape([-1, num_channels, img_size, img_size])\n",
        "  images = images.transpose([0, 2, 3, 1])\n",
        "  return images"
      ],
      "metadata": {
        "id": "aRpYYOtsfoD4"
      },
      "execution_count": 7,
      "outputs": []
    },
    {
      "cell_type": "code",
      "source": [
        "# Preprocessing training data\n",
        "train_data=Pre_Process(train_data)\n",
        "train_data.shape"
      ],
      "metadata": {
        "id": "O4YGEBVZf-Ar",
        "colab": {
          "base_uri": "https://localhost:8080/"
        },
        "outputId": "87c7c9d9-8e27-4285-ec98-3c165dd42fb5"
      },
      "execution_count": 8,
      "outputs": [
        {
          "output_type": "execute_result",
          "data": {
            "text/plain": [
              "(50000, 32, 32, 3)"
            ]
          },
          "metadata": {},
          "execution_count": 8
        }
      ]
    },
    {
      "cell_type": "code",
      "source": [
        "# Preprocessing test data\n",
        "test_data=Pre_Process(test_data)\n",
        "test_data.shape"
      ],
      "metadata": {
        "id": "WPCTIjcOf-vc",
        "colab": {
          "base_uri": "https://localhost:8080/"
        },
        "outputId": "2d82d439-58e6-43da-c617-05eaef7ac37d"
      },
      "execution_count": 9,
      "outputs": [
        {
          "output_type": "execute_result",
          "data": {
            "text/plain": [
              "(10000, 32, 32, 3)"
            ]
          },
          "metadata": {},
          "execution_count": 9
        }
      ]
    },
    {
      "cell_type": "markdown",
      "source": [
        "#Vizualize"
      ],
      "metadata": {
        "id": "QiR8X_g_fkxM"
      }
    },
    {
      "cell_type": "code",
      "source": [
        "# Visualizing some samples\n",
        "classes = [\"airplane\",\"automobile\",\"bird\",\"cat\",\"deer\",\"little bitch\",\"frog\",\"horse\",\"ship\",\"truck\"]\n",
        "\n",
        "def plot_sample(X, y, index):\n",
        "    plt.figure(figsize = (12,2))\n",
        "    plt.imshow(X[index])\n",
        "    plt.xlabel(classes[y[index]])"
      ],
      "metadata": {
        "id": "-czEuKFUeu8q"
      },
      "execution_count": 10,
      "outputs": []
    },
    {
      "cell_type": "code",
      "source": [
        "plot_sample(train_data,train_labels, 15)\n"
      ],
      "metadata": {
        "id": "cWkMVQlmhIlh",
        "colab": {
          "base_uri": "https://localhost:8080/",
          "height": 237
        },
        "outputId": "d44bc3c0-e286-4f58-a4a9-3715723a7c60"
      },
      "execution_count": 11,
      "outputs": [
        {
          "output_type": "display_data",
          "data": {
            "text/plain": [
              "<Figure size 1200x200 with 1 Axes>"
            ],
            "image/png": "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\n"
          },
          "metadata": {}
        }
      ]
    },
    {
      "cell_type": "code",
      "source": [
        "plot_sample(train_data,train_labels, 12)\n"
      ],
      "metadata": {
        "id": "xckaDx6UhUP7",
        "colab": {
          "base_uri": "https://localhost:8080/",
          "height": 237
        },
        "outputId": "b85c4c9b-5696-4043-be53-26281ec0239c"
      },
      "execution_count": 12,
      "outputs": [
        {
          "output_type": "display_data",
          "data": {
            "text/plain": [
              "<Figure size 1200x200 with 1 Axes>"
            ],
            "image/png": "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\n"
          },
          "metadata": {}
        }
      ]
    },
    {
      "cell_type": "markdown",
      "source": [
        "#Building Model"
      ],
      "metadata": {
        "id": "xtdHWRbwesHr"
      }
    },
    {
      "cell_type": "code",
      "source": [
        "# Define Model Architecture\n",
        "model = Sequential()\n",
        "\n",
        "model.add(Conv2D(64, (3, 3), activation='relu', input_shape=(32, 32, 3)))\n",
        "model.add(BatchNormalization())\n",
        "model.add(MaxPooling2D((2, 2)))\n",
        "\n",
        "model.add(Conv2D(64, (3, 3), activation='relu'))\n",
        "model.add(BatchNormalization())\n",
        "model.add(MaxPooling2D((2, 2)))\n",
        "\n",
        "model.add(Conv2D(64, (3, 3), activation='relu'))\n",
        "model.add(BatchNormalization())\n",
        "model.add(MaxPooling2D((2, 2)))\n",
        "\n",
        "model.add(Flatten())\n",
        "\n",
        "model.add(Dense(64, activation='relu'))\n",
        "model.add(Dropout(0.25))\n",
        "model.add(Dense(32, activation='relu'))\n",
        "model.add(Dropout(0.25))\n",
        "model.add(Dense(10, activation='softmax'))"
      ],
      "metadata": {
        "id": "1ECDmaZlVNOz"
      },
      "execution_count": 13,
      "outputs": []
    },
    {
      "cell_type": "code",
      "source": [
        "# Observing Model summary\n",
        "model.summary()"
      ],
      "metadata": {
        "id": "hgJVtRqxhv9r",
        "colab": {
          "base_uri": "https://localhost:8080/"
        },
        "outputId": "0a8e3589-20bd-40a6-df6e-74904447e207"
      },
      "execution_count": 14,
      "outputs": [
        {
          "output_type": "stream",
          "name": "stdout",
          "text": [
            "Model: \"sequential\"\n",
            "_________________________________________________________________\n",
            " Layer (type)                Output Shape              Param #   \n",
            "=================================================================\n",
            " conv2d (Conv2D)             (None, 30, 30, 64)        1792      \n",
            "                                                                 \n",
            " batch_normalization (Batch  (None, 30, 30, 64)        256       \n",
            " Normalization)                                                  \n",
            "                                                                 \n",
            " max_pooling2d (MaxPooling2  (None, 15, 15, 64)        0         \n",
            " D)                                                              \n",
            "                                                                 \n",
            " conv2d_1 (Conv2D)           (None, 13, 13, 64)        36928     \n",
            "                                                                 \n",
            " batch_normalization_1 (Bat  (None, 13, 13, 64)        256       \n",
            " chNormalization)                                                \n",
            "                                                                 \n",
            " max_pooling2d_1 (MaxPoolin  (None, 6, 6, 64)          0         \n",
            " g2D)                                                            \n",
            "                                                                 \n",
            " conv2d_2 (Conv2D)           (None, 4, 4, 64)          36928     \n",
            "                                                                 \n",
            " batch_normalization_2 (Bat  (None, 4, 4, 64)          256       \n",
            " chNormalization)                                                \n",
            "                                                                 \n",
            " max_pooling2d_2 (MaxPoolin  (None, 2, 2, 64)          0         \n",
            " g2D)                                                            \n",
            "                                                                 \n",
            " flatten (Flatten)           (None, 256)               0         \n",
            "                                                                 \n",
            " dense (Dense)               (None, 64)                16448     \n",
            "                                                                 \n",
            " dropout (Dropout)           (None, 64)                0         \n",
            "                                                                 \n",
            " dense_1 (Dense)             (None, 32)                2080      \n",
            "                                                                 \n",
            " dropout_1 (Dropout)         (None, 32)                0         \n",
            "                                                                 \n",
            " dense_2 (Dense)             (None, 10)                330       \n",
            "                                                                 \n",
            "=================================================================\n",
            "Total params: 95274 (372.16 KB)\n",
            "Trainable params: 94890 (370.66 KB)\n",
            "Non-trainable params: 384 (1.50 KB)\n",
            "_________________________________________________________________\n"
          ]
        }
      ]
    },
    {
      "cell_type": "code",
      "source": [
        "# Compile the model\n",
        "\n",
        "opt = Adam(learning_rate=0.001)\n",
        "\n",
        "model.compile(optimizer=opt,\n",
        "              loss='sparse_categorical_crossentropy',\n",
        "              metrics=['accuracy'])"
      ],
      "metadata": {
        "id": "Wlja_LX4h8az"
      },
      "execution_count": 15,
      "outputs": []
    },
    {
      "cell_type": "code",
      "source": [
        "# Train the model\n",
        "model.fit(train_data, train_labels, epochs=20,)"
      ],
      "metadata": {
        "id": "un2Ct6iPheqM",
        "colab": {
          "base_uri": "https://localhost:8080/"
        },
        "outputId": "202fdf5b-669a-488c-b9ad-6d5f08361754"
      },
      "execution_count": 16,
      "outputs": [
        {
          "output_type": "stream",
          "name": "stdout",
          "text": [
            "Epoch 1/20\n",
            "1563/1563 [==============================] - 15s 5ms/step - loss: 1.6783 - accuracy: 0.3907\n",
            "Epoch 2/20\n",
            "1563/1563 [==============================] - 8s 5ms/step - loss: 1.2872 - accuracy: 0.5508\n",
            "Epoch 3/20\n",
            "1563/1563 [==============================] - 8s 5ms/step - loss: 1.1174 - accuracy: 0.6201\n",
            "Epoch 4/20\n",
            "1563/1563 [==============================] - 8s 5ms/step - loss: 1.0022 - accuracy: 0.6606\n",
            "Epoch 5/20\n",
            "1563/1563 [==============================] - 8s 5ms/step - loss: 0.9282 - accuracy: 0.6857\n",
            "Epoch 6/20\n",
            "1563/1563 [==============================] - 8s 5ms/step - loss: 0.8629 - accuracy: 0.7118\n",
            "Epoch 7/20\n",
            "1563/1563 [==============================] - 8s 5ms/step - loss: 0.8212 - accuracy: 0.7249\n",
            "Epoch 8/20\n",
            "1563/1563 [==============================] - 9s 5ms/step - loss: 0.7826 - accuracy: 0.7394\n",
            "Epoch 9/20\n",
            "1563/1563 [==============================] - 8s 5ms/step - loss: 0.7409 - accuracy: 0.7534\n",
            "Epoch 10/20\n",
            "1563/1563 [==============================] - 8s 5ms/step - loss: 0.7108 - accuracy: 0.7624\n",
            "Epoch 11/20\n",
            "1563/1563 [==============================] - 8s 5ms/step - loss: 0.6836 - accuracy: 0.7726\n",
            "Epoch 12/20\n",
            "1563/1563 [==============================] - 8s 5ms/step - loss: 0.6583 - accuracy: 0.7798\n",
            "Epoch 13/20\n",
            "1563/1563 [==============================] - 8s 5ms/step - loss: 0.6362 - accuracy: 0.7879\n",
            "Epoch 14/20\n",
            "1563/1563 [==============================] - 8s 5ms/step - loss: 0.6088 - accuracy: 0.7981\n",
            "Epoch 15/20\n",
            "1563/1563 [==============================] - 8s 5ms/step - loss: 0.5931 - accuracy: 0.8038\n",
            "Epoch 16/20\n",
            "1563/1563 [==============================] - 8s 5ms/step - loss: 0.5721 - accuracy: 0.8100\n",
            "Epoch 17/20\n",
            "1563/1563 [==============================] - 8s 5ms/step - loss: 0.5595 - accuracy: 0.8137\n",
            "Epoch 18/20\n",
            "1563/1563 [==============================] - 8s 5ms/step - loss: 0.5455 - accuracy: 0.8192\n",
            "Epoch 19/20\n",
            "1563/1563 [==============================] - 8s 5ms/step - loss: 0.5283 - accuracy: 0.8230\n",
            "Epoch 20/20\n",
            "1563/1563 [==============================] - 8s 5ms/step - loss: 0.5177 - accuracy: 0.8281\n"
          ]
        },
        {
          "output_type": "execute_result",
          "data": {
            "text/plain": [
              "<keras.src.callbacks.History at 0x7d0bce75cd90>"
            ]
          },
          "metadata": {},
          "execution_count": 16
        }
      ]
    },
    {
      "cell_type": "markdown",
      "source": [
        "We can see that the model trained obtains a training accuracy of __82%__ <br>\n"
      ],
      "metadata": {
        "id": "bvdzCAapvNQS"
      }
    },
    {
      "cell_type": "markdown",
      "source": [
        "#Test"
      ],
      "metadata": {
        "id": "O6LIqrPnJvMm"
      }
    },
    {
      "cell_type": "code",
      "source": [
        "# Running model on test set\n",
        "predictions = model.predict(test_data)\n",
        "predicted_classes = np.argmax(predictions, axis=1)\n",
        "\n",
        "\n",
        "# Generate confusion matrix\n",
        "cm = confusion_matrix(predicted_classes, test_labels)\n",
        "\n",
        "# Plotting the confusion matrix\n",
        "plt.figure(figsize=(8, 6))\n",
        "sns.heatmap(cm, annot=True, cmap='magma', fmt='d')\n",
        "plt.xlabel('Predicted labels')\n",
        "plt.ylabel('True labels')\n",
        "plt.title('Confusion Matrix')\n",
        "plt.show()\n"
      ],
      "metadata": {
        "colab": {
          "base_uri": "https://localhost:8080/",
          "height": 581
        },
        "id": "D8K-7Edl9p2p",
        "outputId": "7418bfcc-db10-4fb3-97c2-5bb736b4493a"
      },
      "execution_count": 39,
      "outputs": [
        {
          "output_type": "stream",
          "name": "stdout",
          "text": [
            "313/313 [==============================] - 1s 2ms/step\n"
          ]
        },
        {
          "output_type": "display_data",
          "data": {
            "text/plain": [
              "<Figure size 800x600 with 2 Axes>"
            ],
            "image/png": "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\n"
          },
          "metadata": {}
        }
      ]
    },
    {
      "cell_type": "code",
      "source": [
        "# Calculate accuracy\n",
        "\n",
        "accuracy = accuracy_score(predicted_classes, test_labels)\n",
        "\n",
        "print(\"Accuracy:\", accuracy)"
      ],
      "metadata": {
        "colab": {
          "base_uri": "https://localhost:8080/"
        },
        "id": "EuyxN5nS_vmD",
        "outputId": "38a39598-041e-4013-b6c2-1e15b43db2b0"
      },
      "execution_count": 29,
      "outputs": [
        {
          "output_type": "stream",
          "name": "stdout",
          "text": [
            "Accuracy: 0.7216\n"
          ]
        }
      ]
    },
    {
      "cell_type": "markdown",
      "source": [
        "Obtained a test accuracy of __72%__"
      ],
      "metadata": {
        "id": "5K2H24mlBWy-"
      }
    },
    {
      "cell_type": "markdown",
      "source": [
        "# Saving the model"
      ],
      "metadata": {
        "id": "xnBMyNXf_wEW"
      }
    },
    {
      "cell_type": "code",
      "source": [
        "# Saving the model\n",
        "model.save(\"CNN_M5.h5\")"
      ],
      "metadata": {
        "id": "a3ItaydOXrc5",
        "colab": {
          "base_uri": "https://localhost:8080/"
        },
        "outputId": "d967c98b-4e37-48ed-df88-3970240e3a81"
      },
      "execution_count": 30,
      "outputs": [
        {
          "output_type": "stream",
          "name": "stderr",
          "text": [
            "/usr/local/lib/python3.10/dist-packages/keras/src/engine/training.py:3103: UserWarning: You are saving your model as an HDF5 file via `model.save()`. This file format is considered legacy. We recommend using instead the native Keras format, e.g. `model.save('my_model.keras')`.\n",
            "  saving_api.save_model(\n"
          ]
        }
      ]
    }
  ]
}
