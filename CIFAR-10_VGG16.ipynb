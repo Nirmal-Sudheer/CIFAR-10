{
  "nbformat": 4,
  "nbformat_minor": 0,
  "metadata": {
    "colab": {
      "provenance": [],
      "gpuType": "T4"
    },
    "kernelspec": {
      "name": "python3",
      "display_name": "Python 3"
    },
    "language_info": {
      "name": "python"
    },
    "accelerator": "GPU"
  },
  "cells": [
    {
      "cell_type": "markdown",
      "source": [
        "#Imports"
      ],
      "metadata": {
        "id": "B9A23PVrPeoy"
      }
    },
    {
      "cell_type": "code",
      "source": [
        "from tensorflow.keras.applications import VGG16\n",
        "from tensorflow.keras.layers import Dense, Flatten,Dropout\n",
        "from tensorflow.keras.models import Model,Sequential\n",
        "from tensorflow.keras.utils import to_categorical\n",
        "import tensorflow as tf\n",
        "import numpy as np\n",
        "import pickle\n",
        "import matplotlib.pyplot as plt\n",
        "import seaborn as sns\n",
        "from sklearn.metrics import confusion_matrix,accuracy_score"
      ],
      "metadata": {
        "id": "dpjHUa1rPI5P"
      },
      "execution_count": 1,
      "outputs": []
    },
    {
      "cell_type": "code",
      "source": [
        "# Checking for GPU availability\n",
        "physical_devices = tf.config.list_physical_devices('GPU')\n",
        "tf.config.experimental.set_memory_growth(physical_devices[0], True)\n",
        "print(tf.config.list_physical_devices('GPU'))\n"
      ],
      "metadata": {
        "colab": {
          "base_uri": "https://localhost:8080/"
        },
        "id": "g-MGv5NET1Z1",
        "outputId": "35a214d8-b53b-4f96-8acf-c84f84ec443c"
      },
      "execution_count": 2,
      "outputs": [
        {
          "output_type": "stream",
          "name": "stdout",
          "text": [
            "[PhysicalDevice(name='/physical_device:GPU:0', device_type='GPU')]\n"
          ]
        }
      ]
    },
    {
      "cell_type": "markdown",
      "source": [
        "#Loading Dataset"
      ],
      "metadata": {
        "id": "eXDqXa6tUncG"
      }
    },
    {
      "cell_type": "code",
      "source": [
        "# Function to unpickle file\n",
        "def unpickle(file):\n",
        "    with open(file, 'rb') as fo:\n",
        "        data = pickle.load(fo, encoding='bytes')    # Each file  unpickled file returns a dictionary that contains batch label,labels,data ,filenames\n",
        "    return data\n",
        "\n",
        "batch_files = ['/content/data_batch_1', '/content/data_batch_2', '/content/data_batch_3', '/content/data_batch_4', '/content/data_batch_5']\n",
        "data_batches = []\n",
        "for file in batch_files:    # Function  to combine them\n",
        "    data_batches.append(unpickle(file))\n",
        "\n"
      ],
      "metadata": {
        "id": "qfm-lIwPPLGW"
      },
      "execution_count": 3,
      "outputs": []
    },
    {
      "cell_type": "code",
      "source": [
        "# Combining data\n",
        "train_data = np.concatenate([batch[b'data'] for batch in data_batches], axis=0)\n",
        "train_labels = np.concatenate([batch[b'labels'] for batch in data_batches], axis=0)\n",
        "print(f'All the training data is of the shape :{train_data.shape}')\n",
        "print(f\"Its respective labels are of the shape :{train_labels.shape}\")"
      ],
      "metadata": {
        "colab": {
          "base_uri": "https://localhost:8080/"
        },
        "id": "cv3tgXk2PPC3",
        "outputId": "c6d8e0cd-e599-4684-b2db-37e1a3b495dd"
      },
      "execution_count": 4,
      "outputs": [
        {
          "output_type": "stream",
          "name": "stdout",
          "text": [
            "All the training data is of the shape :(50000, 3072)\n",
            "Its respective labels are of the shape :(50000,)\n"
          ]
        }
      ]
    },
    {
      "cell_type": "code",
      "source": [
        "# Test Batch\n",
        "test_batch = unpickle('/content/test_batch')\n",
        "test_data = test_batch[b'data']\n",
        "test_labels = np.array(test_batch[b'labels'])\n",
        "print(f\"All the test data is of the shape :{test_data.shape}\")\n",
        "print(f\"Its respective labels are of the shape :{test_labels.shape}\")"
      ],
      "metadata": {
        "colab": {
          "base_uri": "https://localhost:8080/"
        },
        "id": "fcHH1zN_PX-1",
        "outputId": "0c98a02e-013e-44b4-ef97-8899df09193e"
      },
      "execution_count": 5,
      "outputs": [
        {
          "output_type": "stream",
          "name": "stdout",
          "text": [
            "All the test data is of the shape :(10000, 3072)\n",
            "Its respective labels are of the shape :(10000,)\n"
          ]
        }
      ]
    },
    {
      "cell_type": "markdown",
      "source": [
        "#Preprocessing\n"
      ],
      "metadata": {
        "id": "jFftswvgPb5j"
      }
    },
    {
      "cell_type": "code",
      "source": [
        "# Preprocessing data\n",
        "num_channels=3\n",
        "img_size=32\n",
        "\n",
        "def Pre_Process(samples):\n",
        "\n",
        "  #Normalizing the datapoints\n",
        "  raw_float = np.array(samples, dtype=float) / 255.0\n",
        "\n",
        "\n",
        "  #Reshaping\n",
        "  images = raw_float.reshape([-1, num_channels, img_size, img_size])\n",
        "  images = images.transpose([0, 2, 3, 1])\n",
        "  return images"
      ],
      "metadata": {
        "id": "5f8WcG5CPbkX"
      },
      "execution_count": 6,
      "outputs": []
    },
    {
      "cell_type": "code",
      "source": [
        "# Preprocessing training data\n",
        "train_data=Pre_Process(train_data)\n",
        "train_data.shape"
      ],
      "metadata": {
        "colab": {
          "base_uri": "https://localhost:8080/"
        },
        "id": "6cbSNQ7pQsR0",
        "outputId": "ef475db4-dc22-4f4f-83f1-dc4e42e1a170"
      },
      "execution_count": 7,
      "outputs": [
        {
          "output_type": "execute_result",
          "data": {
            "text/plain": [
              "(50000, 32, 32, 3)"
            ]
          },
          "metadata": {},
          "execution_count": 7
        }
      ]
    },
    {
      "cell_type": "code",
      "source": [
        "# Preprocessing test data\n",
        "test_data=Pre_Process(test_data)\n",
        "test_data.shape"
      ],
      "metadata": {
        "colab": {
          "base_uri": "https://localhost:8080/"
        },
        "id": "35SPe33eQw0u",
        "outputId": "00e3b874-c95a-41b4-e212-8b0631dbc4d8"
      },
      "execution_count": 8,
      "outputs": [
        {
          "output_type": "execute_result",
          "data": {
            "text/plain": [
              "(10000, 32, 32, 3)"
            ]
          },
          "metadata": {},
          "execution_count": 8
        }
      ]
    },
    {
      "cell_type": "markdown",
      "source": [
        "#Vizualize"
      ],
      "metadata": {
        "id": "dm86ShTIYLGq"
      }
    },
    {
      "cell_type": "code",
      "source": [
        "# Visualizing some samples\n",
        "classes = [\"airplane\",\"automobile\",\"bird\",\"cat\",\"deer\",\"dog\",\"frog\",\"horse\",\"ship\",\"truck\"]\n",
        "\n",
        "def plot_sample(X, y, index):\n",
        "    plt.figure(figsize = (12,2))\n",
        "    plt.imshow(X[index])\n",
        "    plt.xlabel(classes[y[index]])"
      ],
      "metadata": {
        "id": "xKRzMWYXYCLE"
      },
      "execution_count": 9,
      "outputs": []
    },
    {
      "cell_type": "code",
      "source": [
        "plot_sample(train_data,train_labels, 22)\n"
      ],
      "metadata": {
        "colab": {
          "base_uri": "https://localhost:8080/",
          "height": 237
        },
        "id": "wODuWPdpYFxy",
        "outputId": "ffdf997c-1178-4aa6-da62-17fef33202ff"
      },
      "execution_count": 10,
      "outputs": [
        {
          "output_type": "display_data",
          "data": {
            "text/plain": [
              "<Figure size 1200x200 with 1 Axes>"
            ],
            "image/png": "[encoded data removed]"
          },
          "metadata": {}
        }
      ]
    },
    {
      "cell_type": "code",
      "source": [
        "train_labels"
      ],
      "metadata": {
        "colab": {
          "base_uri": "https://localhost:8080/"
        },
        "id": "O_Xuc3bQYbAS",
        "outputId": "d5896813-8070-4954-f394-d1087499610f"
      },
      "execution_count": 11,
      "outputs": [
        {
          "output_type": "execute_result",
          "data": {
            "text/plain": [
              "array([6, 9, 9, ..., 9, 1, 1])"
            ]
          },
          "metadata": {},
          "execution_count": 11
        }
      ]
    },
    {
      "cell_type": "markdown",
      "source": [
        "#Model training"
      ],
      "metadata": {
        "id": "_66JUUrnQ0mP"
      }
    },
    {
      "cell_type": "code",
      "source": [
        "# Load pre-trained VGG16 model without the top dense layers\n",
        "vgg_base = VGG16(weights='imagenet', include_top=False, input_shape=(32, 32, 3))\n",
        "\n",
        "# Freeze the VGG16 layers\n",
        "for layer in vgg_base.layers[:-3]:\n",
        "    layer.trainable = False"
      ],
      "metadata": {
        "id": "-we3EngLScQw"
      },
      "execution_count": 12,
      "outputs": []
    },
    {
      "cell_type": "code",
      "execution_count": 13,
      "metadata": {
        "id": "wBDH93hQPDE_"
      },
      "outputs": [],
      "source": [
        "# Defining Model Architecture\n",
        "\n",
        "model = Sequential()\n",
        "\n",
        "# Add the VGG16 base\n",
        "\n",
        "model.add(vgg_base)\n",
        "\n",
        "# Flatten the output of the VGG16 base\n",
        "\n",
        "model.add(Flatten())\n",
        "model.add(Dense(256, activation='relu'))\n",
        "model.add(Dropout(0.25))\n",
        "model.add(Dense(10, activation='softmax'))\n",
        "\n",
        "# Compile the model\n",
        "\n",
        "model.compile(optimizer='adam', loss='sparse_categorical_crossentropy', metrics=['accuracy'])"
      ]
    },
    {
      "cell_type": "code",
      "source": [
        "# Training the model\n",
        "model.fit(train_data,train_labels, epochs=10, batch_size=32)"
      ],
      "metadata": {
        "colab": {
          "base_uri": "https://localhost:8080/"
        },
        "id": "nBukaAGaRshl",
        "outputId": "d34c0776-e63b-411d-d9a7-edc2f61e2f28"
      },
      "execution_count": 14,
      "outputs": [
        {
          "output_type": "stream",
          "name": "stdout",
          "text": [
            "Epoch 1/10\n",
            "1563/1563 [==============================] - 32s 16ms/step - loss: 1.1966 - accuracy: 0.5854\n",
            "Epoch 2/10\n",
            "1563/1563 [==============================] - 20s 13ms/step - loss: 0.9591 - accuracy: 0.6706\n",
            "Epoch 3/10\n",
            "1563/1563 [==============================] - 20s 13ms/step - loss: 0.8766 - accuracy: 0.6977\n",
            "Epoch 4/10\n",
            "1563/1563 [==============================] - 21s 13ms/step - loss: 0.8123 - accuracy: 0.7201\n",
            "Epoch 5/10\n",
            "1563/1563 [==============================] - 20s 13ms/step - loss: 0.7644 - accuracy: 0.7361\n",
            "Epoch 6/10\n",
            "1563/1563 [==============================] - 20s 13ms/step - loss: 0.7207 - accuracy: 0.7494\n",
            "Epoch 7/10\n",
            "1563/1563 [==============================] - 21s 14ms/step - loss: 0.6773 - accuracy: 0.7660\n",
            "Epoch 8/10\n",
            "1563/1563 [==============================] - 24s 15ms/step - loss: 0.6444 - accuracy: 0.7754\n",
            "Epoch 9/10\n",
            "1563/1563 [==============================] - 20s 13ms/step - loss: 0.6037 - accuracy: 0.7885\n",
            "Epoch 10/10\n",
            "1563/1563 [==============================] - 20s 13ms/step - loss: 0.5807 - accuracy: 0.7958\n"
          ]
        },
        {
          "output_type": "execute_result",
          "data": {
            "text/plain": [
              "<keras.src.callbacks.History at 0x7f7e704e5ff0>"
            ]
          },
          "metadata": {},
          "execution_count": 14
        }
      ]
    },
    {
      "cell_type": "markdown",
      "source": [
        "On the training set the accuracy came to __79%__"
      ],
      "metadata": {
        "id": "nyKV4gZHaOgy"
      }
    },
    {
      "cell_type": "markdown",
      "source": [
        "#Test"
      ],
      "metadata": {
        "id": "PPw9hv8GTQwn"
      }
    },
    {
      "cell_type": "code",
      "source": [
        "# Running model on test set\n",
        "predictions = model.predict(test_data)\n",
        "predicted_classes = np.argmax(predictions, axis=1)\n",
        "\n",
        "\n",
        "# Generate confusion matrix\n",
        "cm = confusion_matrix(predicted_classes, test_labels)\n",
        "\n",
        "# Plotting the confusion matrix\n",
        "\n",
        "plt.figure(figsize=(8, 6))\n",
        "sns.heatmap(cm, annot=True, cmap='magma', fmt='d')\n",
        "plt.xlabel('Predicted labels')\n",
        "plt.ylabel('True labels')\n",
        "plt.title('Confusion Matrix')\n",
        "plt.show()\n",
        "\n"
      ],
      "metadata": {
        "colab": {
          "base_uri": "https://localhost:8080/",
          "height": 581
        },
        "id": "0lbnRoczTRWT",
        "outputId": "78900ea1-5b5a-4bad-ea39-f1c4b633f4ef"
      },
      "execution_count": 15,
      "outputs": [
        {
          "output_type": "stream",
          "name": "stdout",
          "text": [
            "313/313 [==============================] - 2s 7ms/step\n"
          ]
        },
        {
          "output_type": "display_data",
          "data": {
            "text/plain": [
              "<Figure size 800x600 with 2 Axes>"
            ],
            "image/png": "[encoded data removed]"
          },
          "metadata": {}
        }
      ]
    },
    {
      "cell_type": "code",
      "source": [
        "# Calculate accuracy\n",
        "\n",
        "accuracy = accuracy_score(predicted_classes, test_labels)\n",
        "\n",
        "print(\"Accuracy:\", accuracy)"
      ],
      "metadata": {
        "colab": {
          "base_uri": "https://localhost:8080/"
        },
        "id": "WiJhrmuFTvBT",
        "outputId": "438dce25-08f8-4d37-bd03-5ff4c722f1ee"
      },
      "execution_count": 16,
      "outputs": [
        {
          "output_type": "stream",
          "name": "stdout",
          "text": [
            "Accuracy: 0.7007\n"
          ]
        }
      ]
    },
    {
      "cell_type": "markdown",
      "source": [
        "On the test set the accuracy came to __70%__"
      ],
      "metadata": {
        "id": "gK6mzI6xZ4vk"
      }
    },
    {
      "cell_type": "markdown",
      "source": [
        "#Saving model"
      ],
      "metadata": {
        "id": "iK25CRrWZ6nf"
      }
    },
    {
      "cell_type": "code",
      "source": [
        "model.save(\"VGG16_M1.h5\")"
      ],
      "metadata": {
        "colab": {
          "base_uri": "https://localhost:8080/"
        },
        "id": "MKARV8ydZ6Lj",
        "outputId": "8c1359df-ce32-4b54-d0bd-e59dcbd2d29b"
      },
      "execution_count": 17,
      "outputs": [
        {
          "output_type": "stream",
          "name": "stderr",
          "text": [
            "/usr/local/lib/python3.10/dist-packages/keras/src/engine/training.py:3103: UserWarning: You are saving your model as an HDF5 file via `model.save()`. This file format is considered legacy. We recommend using instead the native Keras format, e.g. `model.save('my_model.keras')`.\n",
            "  saving_api.save_model(\n"
          ]
        }
      ]
    }
  ]
}